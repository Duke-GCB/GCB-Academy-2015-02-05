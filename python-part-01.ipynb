{
 "metadata": {
  "name": "",
  "signature": "sha256:f7706cfdb691a8425b16a52adfe5df3650254e002a78209926d0c26a8e3dbebc"
 },
 "nbformat": 3,
 "nbformat_minor": 0,
 "worksheets": [
  {
   "cells": [
    {
     "cell_type": "markdown",
     "metadata": {},
     "source": [
      "# Python\n",
      "\n",
      "## Section 1 - Starting the Interactive Python Prompt\n",
      "\n",
      "* Why use Python? Versatile, easy and natural to read, rich libraries, multiple platforms\n",
      "* Poll the audience: who has programmed? in what language?\n",
      "* The interactive prompt, can everyone successfully get in\n",
      "\n",
      "```\n",
      "bitnami@linux:~$ python\n",
      "Python 2.7.8 |Anaconda 2.0.1 (64-bit)| (default, Aug 21 2014, 18:22:21) \n",
      "[GCC 4.4.7 20120313 (Red Hat 4.4.7-1)] on linux2\n",
      "Type \"help\", \"copyright\", \"credits\" or \"license\" for more information.\n",
      "Anaconda is brought to you by Continuum Analytics.\n",
      "Please check out: http://continuum.io/thanks and https://binstar.org\n",
      ">>> \n",
      "```\n",
      "\n",
      "Note: To exit the Python interactive prompt, enter **`quit()`**"
     ]
    },
    {
     "cell_type": "markdown",
     "metadata": {},
     "source": [
      "## Section 2 - Calculations Using the Interactive Prompt\n",
      "\n",
      "* Intro to using the interactive prompt\n",
      "* White space in Python (both critical and not important)\n",
      "* Intro to data types (int vs float)\n",
      "* Floating point traps\n",
      "* Data type conversions\n",
      "\n",
      "The interactive prompt is useful for many simple tasks, such as an improptu calculator or to find out how to use a library or built-in function."
     ]
    },
    {
     "cell_type": "code",
     "collapsed": false,
     "input": [
      "2 + 3"
     ],
     "language": "python",
     "metadata": {},
     "outputs": [
      {
       "metadata": {},
       "output_type": "pyout",
       "prompt_number": 4,
       "text": [
        "5"
       ]
      }
     ],
     "prompt_number": 4
    },
    {
     "cell_type": "code",
     "collapsed": false,
     "input": [
      "2 + 3-1"
     ],
     "language": "python",
     "metadata": {},
     "outputs": [
      {
       "metadata": {},
       "output_type": "pyout",
       "prompt_number": 5,
       "text": [
        "4"
       ]
      }
     ],
     "prompt_number": 5
    },
    {
     "cell_type": "markdown",
     "metadata": {},
     "source": [
      "Note that white space within a line doesn't matter, but we will see later that white space at the beginning of a line does. We can also do fancier stuff:"
     ]
    },
    {
     "cell_type": "code",
     "collapsed": false,
     "input": [
      "(2**3)+abs(-4.5)"
     ],
     "language": "python",
     "metadata": {},
     "outputs": [
      {
       "metadata": {},
       "output_type": "pyout",
       "prompt_number": 6,
       "text": [
        "12.5"
       ]
      }
     ],
     "prompt_number": 6
    },
    {
     "cell_type": "markdown",
     "metadata": {},
     "source": [
      "But, watch out when mixing integers and decimals (a.k.a. floating point values):"
     ]
    },
    {
     "cell_type": "code",
     "collapsed": false,
     "input": [
      "8 / 2"
     ],
     "language": "python",
     "metadata": {},
     "outputs": [
      {
       "metadata": {},
       "output_type": "pyout",
       "prompt_number": 7,
       "text": [
        "4"
       ]
      }
     ],
     "prompt_number": 7
    },
    {
     "cell_type": "markdown",
     "metadata": {},
     "source": [
      "Looks good, let's try something else:"
     ]
    },
    {
     "cell_type": "code",
     "collapsed": false,
     "input": [
      "2 / 8"
     ],
     "language": "python",
     "metadata": {},
     "outputs": [
      {
       "metadata": {},
       "output_type": "pyout",
       "prompt_number": 8,
       "text": [
        "0"
       ]
      }
     ],
     "prompt_number": 8
    },
    {
     "cell_type": "markdown",
     "metadata": {},
     "source": [
      "We expected 1/4 or 0.25, but got zero. What's going on here? In Python version 2, math operations using integers will return an integer, and the result is not simply rounded to the nearest integer, it is always rounded down:"
     ]
    },
    {
     "cell_type": "code",
     "collapsed": false,
     "input": [
      "7 / 8"
     ],
     "language": "python",
     "metadata": {},
     "outputs": [
      {
       "metadata": {},
       "output_type": "pyout",
       "prompt_number": 9,
       "text": [
        "0"
       ]
      }
     ],
     "prompt_number": 9
    },
    {
     "cell_type": "markdown",
     "metadata": {},
     "source": [
      "**Note: In Python 3, integer division will return a float. In version 3, you can get the old behaviour using the floor division:**\n",
      "\n",
      "**`7 // 8`**\n",
      "\n",
      "\n",
      "Back to version 2, we can get a decimal back if one of the values is a decimal:"
     ]
    },
    {
     "cell_type": "code",
     "collapsed": false,
     "input": [
      "7 / 8.0"
     ],
     "language": "python",
     "metadata": {},
     "outputs": [
      {
       "metadata": {},
       "output_type": "pyout",
       "prompt_number": 10,
       "text": [
        "0.875"
       ]
      }
     ],
     "prompt_number": 10
    },
    {
     "cell_type": "markdown",
     "metadata": {},
     "source": [
      "We can also do data type conversions, but be careful where you convert:"
     ]
    },
    {
     "cell_type": "code",
     "collapsed": false,
     "input": [
      "float(7 / 8)"
     ],
     "language": "python",
     "metadata": {},
     "outputs": [
      {
       "metadata": {},
       "output_type": "pyout",
       "prompt_number": 11,
       "text": [
        "0.0"
       ]
      }
     ],
     "prompt_number": 11
    },
    {
     "cell_type": "code",
     "collapsed": false,
     "input": [
      "7 / float(8)"
     ],
     "language": "python",
     "metadata": {},
     "outputs": [
      {
       "metadata": {},
       "output_type": "pyout",
       "prompt_number": 12,
       "text": [
        "0.875"
       ]
      }
     ],
     "prompt_number": 12
    },
    {
     "cell_type": "markdown",
     "metadata": {},
     "source": [
      "We can also convert from floats to ints:"
     ]
    },
    {
     "cell_type": "code",
     "collapsed": false,
     "input": [
      "int(4.7)"
     ],
     "language": "python",
     "metadata": {},
     "outputs": [
      {
       "metadata": {},
       "output_type": "pyout",
       "prompt_number": 13,
       "text": [
        "4"
       ]
      }
     ],
     "prompt_number": 13
    },
    {
     "cell_type": "markdown",
     "metadata": {},
     "source": [
      "Note the rounding down again. But, that's not the only gotcha you should know about. How about this?"
     ]
    },
    {
     "cell_type": "code",
     "collapsed": false,
     "input": [
      "1.1 + 2.2"
     ],
     "language": "python",
     "metadata": {},
     "outputs": [
      {
       "metadata": {},
       "output_type": "pyout",
       "prompt_number": 14,
       "text": [
        "3.3000000000000003"
       ]
      }
     ],
     "prompt_number": 14
    },
    {
     "cell_type": "markdown",
     "metadata": {},
     "source": [
      "or even this:"
     ]
    },
    {
     "cell_type": "code",
     "collapsed": false,
     "input": [
      "(3 * 0.1) - 0.3"
     ],
     "language": "python",
     "metadata": {},
     "outputs": [
      {
       "metadata": {},
       "output_type": "pyout",
       "prompt_number": 15,
       "text": [
        "5.551115123125783e-17"
       ]
      }
     ],
     "prompt_number": 15
    },
    {
     "cell_type": "markdown",
     "metadata": {},
     "source": [
      "Whoa! That's not even correct! This is an artifact of how computers perform calculations with floating point values and is not unique to Python.\n",
      "\n",
      "Python has a built-in solution if your application requires decimals to be represented exactly, such as in accounting applications. It is called the decimal module, but we'll get to importing modules and using libraries later."
     ]
    },
    {
     "cell_type": "markdown",
     "metadata": {},
     "source": [
      "## Section 3 - Storing Variables\n",
      "\n",
      "* Intro to variable assignment\n",
      "* Using a variable and re-assigning\n",
      "* Determine the type of a variable\n",
      "* Which variables have I used in the interactive prompt?\n",
      "\n",
      "When writing applications, it is useful to store values in order to retrieve and use them later. Assignment is simple and uses the `=` operator:"
     ]
    },
    {
     "cell_type": "code",
     "collapsed": false,
     "input": [
      "# number of chromosomes in humans\n",
      "chromosome_count = 46"
     ],
     "language": "python",
     "metadata": {},
     "outputs": [],
     "prompt_number": 16
    },
    {
     "cell_type": "markdown",
     "metadata": {},
     "source": [
      "Note, is is not necessary in Python to declare variables before assignment. We can also use the variables just as before:\n"
     ]
    },
    {
     "cell_type": "code",
     "collapsed": false,
     "input": [
      "chromosome_count - 1"
     ],
     "language": "python",
     "metadata": {},
     "outputs": [
      {
       "metadata": {},
       "output_type": "pyout",
       "prompt_number": 17,
       "text": [
        "45"
       ]
      }
     ],
     "prompt_number": 17
    },
    {
     "cell_type": "code",
     "collapsed": false,
     "input": [
      "chromosome_count"
     ],
     "language": "python",
     "metadata": {},
     "outputs": [
      {
       "metadata": {},
       "output_type": "pyout",
       "prompt_number": 18,
       "text": [
        "46"
       ]
      }
     ],
     "prompt_number": 18
    },
    {
     "cell_type": "markdown",
     "metadata": {},
     "source": [
      "However, note that the original value is unchanged. If we want to use the result we must save it in another variable:"
     ]
    },
    {
     "cell_type": "code",
     "collapsed": false,
     "input": [
      "# humans have one pair of sex chromosomes\n",
      "autosome_pairs = (chromosome_count / 2) - 1\n",
      "autosome_pairs"
     ],
     "language": "python",
     "metadata": {},
     "outputs": [
      {
       "metadata": {},
       "output_type": "pyout",
       "prompt_number": 19,
       "text": [
        "22"
       ]
      }
     ],
     "prompt_number": 19
    },
    {
     "cell_type": "markdown",
     "metadata": {},
     "source": [
      "Use the type() function to determine a variable's data type:"
     ]
    },
    {
     "cell_type": "code",
     "collapsed": false,
     "input": [
      "type(autosome_pairs)"
     ],
     "language": "python",
     "metadata": {},
     "outputs": [
      {
       "metadata": {},
       "output_type": "pyout",
       "prompt_number": 20,
       "text": [
        "int"
       ]
      }
     ],
     "prompt_number": 20
    },
    {
     "cell_type": "code",
     "collapsed": false,
     "input": [
      "pi = 3.14\n",
      "type(pi)"
     ],
     "language": "python",
     "metadata": {},
     "outputs": [
      {
       "metadata": {},
       "output_type": "pyout",
       "prompt_number": 21,
       "text": [
        "float"
       ]
      }
     ],
     "prompt_number": 21
    },
    {
     "cell_type": "markdown",
     "metadata": {},
     "source": [
      "User the `dir()` function to determine the variables currently in use. Note there are some system variables with double underscores, don't worry about those."
     ]
    },
    {
     "cell_type": "markdown",
     "metadata": {},
     "source": [
      "## Section 4 - Strings\n",
      "\n",
      "* Another data type: string\n",
      "* The print statement\n",
      "* single vs double quotes\n",
      "* The len() function\n",
      "* string concatenation\n",
      "* Errors & Tracebacks\n",
      "* Special characters\n"
     ]
    },
    {
     "cell_type": "markdown",
     "metadata": {},
     "source": [
      "In addition to numbers, we frequently work with text. Python uses the string data type for various text operations. We can print text using the `print` statement:"
     ]
    },
    {
     "cell_type": "code",
     "collapsed": false,
     "input": [
      "print \"Hello, world!\""
     ],
     "language": "python",
     "metadata": {},
     "outputs": [
      {
       "output_type": "stream",
       "stream": "stdout",
       "text": [
        "Hello, world!\n"
       ]
      }
     ],
     "prompt_number": 22
    },
    {
     "cell_type": "markdown",
     "metadata": {},
     "source": [
      "Strings are created using either double or single quotes:"
     ]
    },
    {
     "cell_type": "code",
     "collapsed": false,
     "input": [
      "print 'Hello to you, too!'"
     ],
     "language": "python",
     "metadata": {},
     "outputs": [
      {
       "output_type": "stream",
       "stream": "stdout",
       "text": [
        "Hello to you, too!\n"
       ]
      }
     ],
     "prompt_number": 23
    },
    {
     "cell_type": "markdown",
     "metadata": {},
     "source": [
      "Strings can include quotes:"
     ]
    },
    {
     "cell_type": "code",
     "collapsed": false,
     "input": [
      "print 'You say \"Hello!\", I say \"Goodbye!\"'"
     ],
     "language": "python",
     "metadata": {},
     "outputs": [
      {
       "output_type": "stream",
       "stream": "stdout",
       "text": [
        "You say \"Hello!\", I say \"Goodbye!\"\n"
       ]
      }
     ],
     "prompt_number": 24
    },
    {
     "cell_type": "markdown",
     "metadata": {},
     "source": [
      "We can also save strings in variables:"
     ]
    },
    {
     "cell_type": "code",
     "collapsed": false,
     "input": [
      "first_name = \"John\"\n",
      "last_name = \"Lennon\""
     ],
     "language": "python",
     "metadata": {},
     "outputs": [],
     "prompt_number": 25
    },
    {
     "cell_type": "markdown",
     "metadata": {},
     "source": [
      "Technically, a string in Python belongs to a family of types known as a sequence. As such, we can get the length of a string using the `len()` function:"
     ]
    },
    {
     "cell_type": "code",
     "collapsed": false,
     "input": [
      "len(first_name)"
     ],
     "language": "python",
     "metadata": {},
     "outputs": [
      {
       "metadata": {},
       "output_type": "pyout",
       "prompt_number": 26,
       "text": [
        "4"
       ]
      }
     ],
     "prompt_number": 26
    },
    {
     "cell_type": "markdown",
     "metadata": {},
     "source": [
      "We can also combine, or concatenate, strings using the '+' operator:"
     ]
    },
    {
     "cell_type": "code",
     "collapsed": false,
     "input": [
      "print first_name + last_name"
     ],
     "language": "python",
     "metadata": {},
     "outputs": [
      {
       "output_type": "stream",
       "stream": "stdout",
       "text": [
        "JohnLennon\n"
       ]
      }
     ],
     "prompt_number": 27
    },
    {
     "cell_type": "markdown",
     "metadata": {},
     "source": [
      "But, that's not exactly what we wanted. There should be a space between the first and last name. Computers! We'll have to tell it exactly what we want:"
     ]
    },
    {
     "cell_type": "code",
     "collapsed": false,
     "input": [
      "print first_name + ' ' + last_name"
     ],
     "language": "python",
     "metadata": {},
     "outputs": [
      {
       "output_type": "stream",
       "stream": "stdout",
       "text": [
        "John Lennon\n"
       ]
      }
     ],
     "prompt_number": 28
    },
    {
     "cell_type": "markdown",
     "metadata": {},
     "source": [
      "That's better, but wait, didn't we already use the '+' operator to do math? What happens if we add a string to a number:"
     ]
    },
    {
     "cell_type": "code",
     "collapsed": false,
     "input": [
      "print \"Hello, \" + pi"
     ],
     "language": "python",
     "metadata": {},
     "outputs": [
      {
       "ename": "TypeError",
       "evalue": "cannot concatenate 'str' and 'float' objects",
       "output_type": "pyerr",
       "traceback": [
        "\u001b[0;31m---------------------------------------------------------------------------\u001b[0m\n\u001b[0;31mTypeError\u001b[0m                                 Traceback (most recent call last)",
        "\u001b[0;32m<ipython-input-29-922014853645>\u001b[0m in \u001b[0;36m<module>\u001b[0;34m()\u001b[0m\n\u001b[0;32m----> 1\u001b[0;31m \u001b[0;32mprint\u001b[0m \u001b[0;34m\"Hello, \"\u001b[0m \u001b[0;34m+\u001b[0m \u001b[0mpi\u001b[0m\u001b[0;34m\u001b[0m\u001b[0m\n\u001b[0m",
        "\u001b[0;31mTypeError\u001b[0m: cannot concatenate 'str' and 'float' objects"
       ]
      }
     ],
     "prompt_number": 29
    },
    {
     "cell_type": "markdown",
     "metadata": {},
     "source": [
      "Eeks! We got an error, specifically a TypeError and Python is nice enough to show us where in our program the error occured. This is a traceback and can be very useful in tracking down bugs in your code. One more thing about strings, what if we want a tab, or to separate strings on different lines? There are special characters for that:"
     ]
    },
    {
     "cell_type": "code",
     "collapsed": false,
     "input": [
      "print \"Name:\\n\" + \"\\t\" + first_name + ' ' + last_name"
     ],
     "language": "python",
     "metadata": {},
     "outputs": [
      {
       "output_type": "stream",
       "stream": "stdout",
       "text": [
        "Name:\n",
        "\tJohn Lennon\n"
       ]
      }
     ],
     "prompt_number": 31
    },
    {
     "cell_type": "markdown",
     "metadata": {},
     "source": [
      "The backslash is known as an escape character, letting Python know that we don't want the letter `n` or `t` printed, but a new line or a tab, respectively. We can also use the escape character to print a mixture of single and double quotes, as well as printing the backslash character itself:"
     ]
    },
    {
     "cell_type": "code",
     "collapsed": false,
     "input": [
      "print \"Use a \\\"\\\\n\\\" for a new line\""
     ],
     "language": "python",
     "metadata": {},
     "outputs": [
      {
       "output_type": "stream",
       "stream": "stdout",
       "text": [
        "Use a \"\\n\" for a new line\n"
       ]
      }
     ],
     "prompt_number": 32
    },
    {
     "cell_type": "markdown",
     "metadata": {},
     "source": [
      "## Section 5 - Lists\n",
      "\n",
      "* Real-world data\n",
      "* Splitting strings\n",
      "* Yet another data type: the list\n",
      "* List indices\n",
      "\n",
      "Let's combine some of what we know with a simple example of real-world data in [BED](http://genome.ucsc.edu/FAQ/FAQformat.html#format1) format (Browser Extensible Data). Simple BED data is from https://www.biostars.org/p/13516/.\n",
      "\n",
      "Reference on the BED format:\n",
      "\n",
      ">  The first three required BED fields are:\n",
      ">\n",
      "> 1. chrom - The name of the chromosome (e.g. chr3, chrY, chr2_random) or scaffold (e.g. scaffold10671).\n",
      "> 2. chromStart - The starting position of the feature in the chromosome or scaffold. The first base in a chromosome is numbered 0.\n",
      "> 3. chromEnd - The ending position of the feature in the chromosome or scaffold. The chromEnd base is not included in the display of the feature. For example, the first 100 bases of a chromosome are defined as chromStart=0, chromEnd=100, and span the bases numbered 0-99.\n",
      "\n",
      "First, we'll store BED data in a variable:\n"
     ]
    },
    {
     "cell_type": "code",
     "collapsed": false,
     "input": [
      "bed_string = 'chr1 6 12'\n",
      "bed_string"
     ],
     "language": "python",
     "metadata": {},
     "outputs": [
      {
       "metadata": {},
       "output_type": "pyout",
       "prompt_number": 33,
       "text": [
        "'chr1 6 12'"
       ]
      }
     ],
     "prompt_number": 33
    },
    {
     "cell_type": "markdown",
     "metadata": {},
     "source": [
      "But we've got 3 values in there, separated by whitespace. We'd really like to split this string, and Python lets you do just that via the `split()` method:"
     ]
    },
    {
     "cell_type": "code",
     "collapsed": false,
     "input": [
      "bed_list = bed_string.split()\n",
      "bed_list"
     ],
     "language": "python",
     "metadata": {},
     "outputs": [
      {
       "metadata": {},
       "output_type": "pyout",
       "prompt_number": 34,
       "text": [
        "['chr1', '6', '12']"
       ]
      }
     ],
     "prompt_number": 34
    },
    {
     "cell_type": "markdown",
     "metadata": {},
     "source": [
      "We've got some new things going on here. \n",
      "\n",
      "Notice the new notation of `.split()` after our string varible and that I mentioned split is a method and not a function. This is because the split is a special function that works on strings. Technically, every value in Python is an object that belongs to a specific class, and classes can have specialized functions that only work on instances of that class. Don't worry about the inner-workings right now, just know that some data types have specialized helper functions we call methods. \n",
      "\n",
      "Also notice that the output from the split method looks a bit funny, with square brackets around what looks like a list of strings. What is this? Well, it is a list of strings. Let's confirm with the `type()` function:"
     ]
    },
    {
     "cell_type": "code",
     "collapsed": false,
     "input": [
      "type(bed_list)"
     ],
     "language": "python",
     "metadata": {},
     "outputs": [
      {
       "metadata": {},
       "output_type": "pyout",
       "prompt_number": 35,
       "text": [
        "list"
       ]
      }
     ],
     "prompt_number": 35
    },
    {
     "cell_type": "markdown",
     "metadata": {},
     "source": [
      "A list is another data type within the sequence family. We already know that strings are in the sequence family, so we should be able to find the length of the list using `len()`:"
     ]
    },
    {
     "cell_type": "code",
     "collapsed": false,
     "input": [
      "len(bed_list)"
     ],
     "language": "python",
     "metadata": {},
     "outputs": [
      {
       "metadata": {},
       "output_type": "pyout",
       "prompt_number": 36,
       "text": [
        "3"
       ]
      }
     ],
     "prompt_number": 36
    },
    {
     "cell_type": "markdown",
     "metadata": {},
     "source": [
      "That looks right, the list contains 3 items, or elements, but how do we access them? To retrieve a single element in a list, you need to know the element's index, which is an integer representing the position in the list. The syntax for referencing an item in a list is to use list's variable name followed by the index number between square brackets. Let's get element 1 from the list:"
     ]
    },
    {
     "cell_type": "code",
     "collapsed": false,
     "input": [
      "bed_list[1]"
     ],
     "language": "python",
     "metadata": {},
     "outputs": [
      {
       "metadata": {},
       "output_type": "pyout",
       "prompt_number": 37,
       "text": [
        "'6'"
       ]
      }
     ],
     "prompt_number": 37
    },
    {
     "cell_type": "markdown",
     "metadata": {},
     "source": [
      "Hmm, that's not the first item. What's going on here? In most programming languages, the first element is actually indexed at zero, not one:"
     ]
    },
    {
     "cell_type": "code",
     "collapsed": false,
     "input": [
      "bed_list[0]"
     ],
     "language": "python",
     "metadata": {},
     "outputs": [
      {
       "metadata": {},
       "output_type": "pyout",
       "prompt_number": 38,
       "text": [
        "'chr1'"
       ]
      }
     ],
     "prompt_number": 38
    },
    {
     "cell_type": "markdown",
     "metadata": {},
     "source": [
      "However, unlike some programming languages, you don't need to know the length to access the last element: enter negative indices:"
     ]
    },
    {
     "cell_type": "code",
     "collapsed": false,
     "input": [
      "bed_list[-1]"
     ],
     "language": "python",
     "metadata": {},
     "outputs": [
      {
       "metadata": {},
       "output_type": "pyout",
       "prompt_number": 39,
       "text": [
        "'12'"
       ]
      }
     ],
     "prompt_number": 39
    },
    {
     "cell_type": "markdown",
     "metadata": {},
     "source": [
      "Though you can combine the `len()` function to index the last element, just remember to subtract 1 to account for zero indexing:"
     ]
    },
    {
     "cell_type": "code",
     "collapsed": false,
     "input": [
      "bed_list[len(bed_list)-1]"
     ],
     "language": "python",
     "metadata": {},
     "outputs": [
      {
       "metadata": {},
       "output_type": "pyout",
       "prompt_number": 40,
       "text": [
        "'12'"
       ]
      }
     ],
     "prompt_number": 40
    },
    {
     "cell_type": "markdown",
     "metadata": {},
     "source": [
      "Lists have their own specialized functions. Instead of just accessing an item within a list, what if we wanted to add or remove an item. To add an item, use `append()`:"
     ]
    },
    {
     "cell_type": "code",
     "collapsed": false,
     "input": [
      "vowels = ['a', 'e', 'u']\n",
      "vowels.append('o')\n",
      "print vowels"
     ],
     "language": "python",
     "metadata": {},
     "outputs": [
      {
       "output_type": "stream",
       "stream": "stdout",
       "text": [
        "['a', 'e', 'u', 'o']\n"
       ]
      }
     ],
     "prompt_number": 102
    },
    {
     "cell_type": "markdown",
     "metadata": {},
     "source": [
      "Notice that `append()` appends a new item to the end of the list. If we want to insert a value at a specific location we use `insert()`. Remember, Python indices start at zero:"
     ]
    },
    {
     "cell_type": "code",
     "collapsed": false,
     "input": [
      "vowels.insert(2, 'i')\n",
      "print vowels"
     ],
     "language": "python",
     "metadata": {},
     "outputs": [
      {
       "output_type": "stream",
       "stream": "stdout",
       "text": [
        "['a', 'e', 'i', 'u', 'o']\n"
       ]
      }
     ],
     "prompt_number": 103
    },
    {
     "cell_type": "markdown",
     "metadata": {},
     "source": [
      "To remove an item, we use the `remove()` method with the value of the item we would like to remove. If that item occurs multiple times in the list, then the first occurence is removed:"
     ]
    },
    {
     "cell_type": "code",
     "collapsed": false,
     "input": [
      "vowels.remove('i')\n",
      "print vowels"
     ],
     "language": "python",
     "metadata": {},
     "outputs": [
      {
       "output_type": "stream",
       "stream": "stdout",
       "text": [
        "['a', 'e', 'u', 'o']\n"
       ]
      }
     ],
     "prompt_number": 104
    },
    {
     "cell_type": "markdown",
     "metadata": {},
     "source": [
      "There's also `pop()` to remove the last item:"
     ]
    },
    {
     "cell_type": "code",
     "collapsed": false,
     "input": [
      "a_letter = vowels.pop()\n",
      "print vowels\n",
      "print a_letter"
     ],
     "language": "python",
     "metadata": {},
     "outputs": [
      {
       "output_type": "stream",
       "stream": "stdout",
       "text": [
        "['a', 'e', 'u']\n",
        "o\n"
       ]
      }
     ],
     "prompt_number": 105
    },
    {
     "cell_type": "markdown",
     "metadata": {},
     "source": [
      "`pop()` takes an optional argument if you want to remove an item at a specific index (remember Python indices start at zero):"
     ]
    },
    {
     "cell_type": "code",
     "collapsed": false,
     "input": [
      "another_letter = vowels.pop(1)\n",
      "print vowels\n",
      "print another_letter"
     ],
     "language": "python",
     "metadata": {},
     "outputs": [
      {
       "output_type": "stream",
       "stream": "stdout",
       "text": [
        "['a', 'u']\n",
        "e\n"
       ]
      }
     ],
     "prompt_number": 106
    },
    {
     "cell_type": "markdown",
     "metadata": {},
     "source": [
      "And if we want to add multiple items at once, that is basically add a list to a list, we can use `extend()`:"
     ]
    },
    {
     "cell_type": "code",
     "collapsed": false,
     "input": [
      "vowels.extend(['i', 'e', 'o'])\n",
      "print vowels"
     ],
     "language": "python",
     "metadata": {},
     "outputs": [
      {
       "output_type": "stream",
       "stream": "stdout",
       "text": [
        "['a', 'u', 'i', 'e', 'o']\n"
       ]
      }
     ],
     "prompt_number": 107
    },
    {
     "cell_type": "markdown",
     "metadata": {},
     "source": [
      "Finally, there are some other useful list methods. Let's sort our list:"
     ]
    },
    {
     "cell_type": "code",
     "collapsed": false,
     "input": [
      "vowels.sort()\n",
      "print vowels"
     ],
     "language": "python",
     "metadata": {},
     "outputs": [
      {
       "output_type": "stream",
       "stream": "stdout",
       "text": [
        "['a', 'e', 'i', 'o', 'u']\n"
       ]
      }
     ],
     "prompt_number": 108
    },
    {
     "cell_type": "markdown",
     "metadata": {},
     "source": [
      "We can reverse the order too:"
     ]
    },
    {
     "cell_type": "code",
     "collapsed": false,
     "input": [
      "vowels.reverse()\n",
      "print vowels"
     ],
     "language": "python",
     "metadata": {},
     "outputs": [
      {
       "output_type": "stream",
       "stream": "stdout",
       "text": [
        "['u', 'o', 'i', 'e', 'a']\n"
       ]
      }
     ],
     "prompt_number": 109
    },
    {
     "cell_type": "markdown",
     "metadata": {},
     "source": [
      "## Section 6 - Comparison Operators, Booleans, & Making Decisions\n",
      "\n",
      "* Convert strings to integers\n",
      "* Comparing values\n",
      "* Thought we were done with data types, False! - the Boolean data type\n",
      "* More comparison operators: ==, !=, \"is\" and \"is not\"\n",
      "\n",
      "So our list contains an element that is actually a string (`chr1`), as well as some values that should be treated as numbers - integers actually. Let's convert the start and end locations to integers and explore some more features of Python:"
     ]
    },
    {
     "cell_type": "code",
     "collapsed": false,
     "input": [
      "chrom_start = int(bed_list[1])\n",
      "chrom_end = int(bed_list[2])"
     ],
     "language": "python",
     "metadata": {},
     "outputs": [],
     "prompt_number": 117
    },
    {
     "cell_type": "code",
     "collapsed": false,
     "input": [
      "print chrom_start, chrom_end"
     ],
     "language": "python",
     "metadata": {},
     "outputs": [
      {
       "output_type": "stream",
       "stream": "stdout",
       "text": [
        "6 12\n"
       ]
      }
     ],
     "prompt_number": 118
    },
    {
     "cell_type": "markdown",
     "metadata": {},
     "source": [
      "Even though we know the values, let's compare them using the greater-than comparison operator `>`:"
     ]
    },
    {
     "cell_type": "code",
     "collapsed": false,
     "input": [
      "chrom_start > chrom_end"
     ],
     "language": "python",
     "metadata": {},
     "outputs": [
      {
       "metadata": {},
       "output_type": "pyout",
       "prompt_number": 119,
       "text": [
        "False"
       ]
      }
     ],
     "prompt_number": 119
    },
    {
     "cell_type": "markdown",
     "metadata": {},
     "source": [
      "That's new, what does False mean? Let's try the less-than operator '<':"
     ]
    },
    {
     "cell_type": "code",
     "collapsed": false,
     "input": [
      "chrom_start < chrom_end"
     ],
     "language": "python",
     "metadata": {},
     "outputs": [
      {
       "metadata": {},
       "output_type": "pyout",
       "prompt_number": 120,
       "text": [
        "True"
       ]
      }
     ],
     "prompt_number": 120
    },
    {
     "cell_type": "markdown",
     "metadata": {},
     "source": [
      "Ahaa! This makes sense, but it reveals another data type, the boolean. The boolean is the simplest data type, it's either True or False. Even though it is simple to understand, it can be very powerful, letting us make decisions within our application. Enter the `if` statement, the first of our control statements:"
     ]
    },
    {
     "cell_type": "code",
     "collapsed": false,
     "input": [
      "if chrom_start < chrom_end:\n",
      "    print chrom_end - chrom_start"
     ],
     "language": "python",
     "metadata": {},
     "outputs": [
      {
       "output_type": "stream",
       "stream": "stdout",
       "text": [
        "6\n"
       ]
      }
     ],
     "prompt_number": 121
    },
    {
     "cell_type": "markdown",
     "metadata": {},
     "source": [
      "Notice, the if statement ends with a colon, and the next line is indented. Python interprets this as, if the statement is True, evaluate the next indented section. We can use as many spaces as we like to indent the next section, but we must be consistent. Even though white space doesn't make a difference within a line of code, it makes a huge difference when used at the beginning of a line. We've used 4 spaces, which is a popular convention.\n",
      "\n",
      "Let's look at another example:"
     ]
    },
    {
     "cell_type": "code",
     "collapsed": false,
     "input": [
      "if 3 > 4:\n",
      "    print \"This shouldn't be\""
     ],
     "language": "python",
     "metadata": {},
     "outputs": [],
     "prompt_number": 122
    },
    {
     "cell_type": "markdown",
     "metadata": {},
     "source": [
      "Nothing is printed because the statement is false, 3 is not greater than 4. If we want to perform an action if the statement is false, then we can use the companion statement to if, the else statement:"
     ]
    },
    {
     "cell_type": "code",
     "collapsed": false,
     "input": [
      "if 3 > 4:\n",
      "    print \"This shouldn't be\"\n",
      "else:\n",
      "    print \"4 is greater than 3\""
     ],
     "language": "python",
     "metadata": {},
     "outputs": [
      {
       "output_type": "stream",
       "stream": "stdout",
       "text": [
        "4 is greater than 3\n"
       ]
      }
     ],
     "prompt_number": 123
    },
    {
     "cell_type": "markdown",
     "metadata": {},
     "source": [
      "We can also have multiple tests using the keywords `and` and/or `or` which makes Python code read naturally: "
     ]
    },
    {
     "cell_type": "code",
     "collapsed": false,
     "input": [
      "if chrom_start > chrom_end or chrom_start <= 0:\n",
      "    print \"Bad data!\"\n",
      "else:\n",
      "    # do something useful\n",
      "    print \"Good data!\""
     ],
     "language": "python",
     "metadata": {},
     "outputs": [
      {
       "output_type": "stream",
       "stream": "stdout",
       "text": [
        "Good data!\n"
       ]
      }
     ],
     "prompt_number": 124
    },
    {
     "cell_type": "markdown",
     "metadata": {},
     "source": [
      "There's also the `elif` keyword for even more complex decision making. In the example above, let's inform the user exactly what is wrong with the data:"
     ]
    },
    {
     "cell_type": "code",
     "collapsed": false,
     "input": [
      "a = -3\n",
      "b = 12\n",
      "if a > b:\n",
      "    print \"Start location must be less than end\" \n",
      "elif a <= 0:\n",
      "    print \"Start location must be a positive number\"\n",
      "elif b <= 0:\n",
      "    print \"End location must be a positive number\"\n",
      "else:\n",
      "    print \"Good data!\""
     ],
     "language": "python",
     "metadata": {},
     "outputs": [
      {
       "output_type": "stream",
       "stream": "stdout",
       "text": [
        "Start location must be a positive number\n"
       ]
      }
     ],
     "prompt_number": 125
    },
    {
     "cell_type": "markdown",
     "metadata": {},
     "source": [
      "Note we can have as many `elif` sections as we want. There are a couple more comparison operators that will come in handy when using if statements: `==` and `!=`:"
     ]
    },
    {
     "cell_type": "code",
     "collapsed": false,
     "input": [
      "chrom_end == 12"
     ],
     "language": "python",
     "metadata": {},
     "outputs": [
      {
       "metadata": {},
       "output_type": "pyout",
       "prompt_number": 126,
       "text": [
        "True"
       ]
      }
     ],
     "prompt_number": 126
    },
    {
     "cell_type": "markdown",
     "metadata": {},
     "source": [
      "** Note the difference between the assignment operatort \"=\" and the comparison operator \"==\"**"
     ]
    },
    {
     "cell_type": "code",
     "collapsed": false,
     "input": [
      "chrom_end != 12"
     ],
     "language": "python",
     "metadata": {},
     "outputs": [
      {
       "metadata": {},
       "output_type": "pyout",
       "prompt_number": 127,
       "text": [
        "False"
       ]
      }
     ],
     "prompt_number": 127
    },
    {
     "cell_type": "markdown",
     "metadata": {},
     "source": [
      "Finally, we also have the keywords \"is\", \"is not\", and \"in\" that also evaluate truthiness:"
     ]
    },
    {
     "cell_type": "code",
     "collapsed": true,
     "input": [
      "today = \"Thursday\"\n",
      "today is \"Thursday\""
     ],
     "language": "python",
     "metadata": {},
     "outputs": [
      {
       "metadata": {},
       "output_type": "pyout",
       "prompt_number": 128,
       "text": [
        "True"
       ]
      }
     ],
     "prompt_number": 128
    },
    {
     "cell_type": "code",
     "collapsed": false,
     "input": [
      "tomorrow = \"Friday\""
     ],
     "language": "python",
     "metadata": {},
     "outputs": [],
     "prompt_number": 129
    },
    {
     "cell_type": "code",
     "collapsed": false,
     "input": [
      "tomorrow is not today"
     ],
     "language": "python",
     "metadata": {},
     "outputs": [
      {
       "metadata": {},
       "output_type": "pyout",
       "prompt_number": 130,
       "text": [
        "True"
       ]
      }
     ],
     "prompt_number": 130
    },
    {
     "cell_type": "code",
     "collapsed": false,
     "input": [
      "\"day\" in tomorrow"
     ],
     "language": "python",
     "metadata": {},
     "outputs": [
      {
       "metadata": {},
       "output_type": "pyout",
       "prompt_number": 131,
       "text": [
        "True"
       ]
      }
     ],
     "prompt_number": 131
    },
    {
     "cell_type": "markdown",
     "metadata": {},
     "source": [
      "That last one works on sequences and evaluates whether a value appears in the sequence. A list is another type of sequence, let's try it on a list:"
     ]
    },
    {
     "cell_type": "code",
     "collapsed": false,
     "input": [
      "'o' in vowels"
     ],
     "language": "python",
     "metadata": {},
     "outputs": [
      {
       "metadata": {},
       "output_type": "pyout",
       "prompt_number": 132,
       "text": [
        "True"
       ]
      }
     ],
     "prompt_number": 132
    },
    {
     "cell_type": "code",
     "collapsed": false,
     "input": [
      "'b' in vowels"
     ],
     "language": "python",
     "metadata": {},
     "outputs": [
      {
       "metadata": {},
       "output_type": "pyout",
       "prompt_number": 133,
       "text": [
        "False"
       ]
      }
     ],
     "prompt_number": 133
    },
    {
     "cell_type": "markdown",
     "metadata": {},
     "source": [
      "And `not in` works as well:"
     ]
    },
    {
     "cell_type": "code",
     "collapsed": false,
     "input": [
      "'b' not in vowels"
     ],
     "language": "python",
     "metadata": {},
     "outputs": [
      {
       "metadata": {},
       "output_type": "pyout",
       "prompt_number": 134,
       "text": [
        "True"
       ]
      }
     ],
     "prompt_number": 134
    },
    {
     "cell_type": "markdown",
     "metadata": {},
     "source": [
      "## Section 7 - range() and for loops\n",
      "\n",
      "* Intro to the range() function\n",
      "* Getting a bit loopy!\n",
      "\n",
      "An introduction to Python would be remiss without a mention of for loops. Combined with if statements and the basic data types, for loops will allow you to write code to solve a great number of the problems you will encounter. \n",
      "\n",
      "However, before we get to for loops, let's cover one more useful built-in Python function: the `range()` function. The `range()` function creates numeric progressions and are frequently used with for loops. Let's look at a simple example."
     ]
    },
    {
     "cell_type": "code",
     "collapsed": false,
     "input": [
      "range(10)"
     ],
     "language": "python",
     "metadata": {},
     "outputs": [
      {
       "metadata": {},
       "output_type": "pyout",
       "prompt_number": 137,
       "text": [
        "[0, 1, 2, 3, 4, 5, 6, 7, 8, 9]"
       ]
      }
     ],
     "prompt_number": 137
    },
    {
     "cell_type": "markdown",
     "metadata": {},
     "source": [
      "That's cool, we easily created a list of 10 numbers in sequence without having to type all the values. But, our computer started the sequence at zero. We'll fix that in a minute. First, if we give the range function just one value it will create a series of integers ranging from zero up to but not including the value we provided. If we provide 2 arguments, the first controls the starting point and the second controls where the series will stop, but again it doesn't include the stop value. Let's create a list of integers from 1 to 10:"
     ]
    },
    {
     "cell_type": "code",
     "collapsed": false,
     "input": [
      "range(1, 11)"
     ],
     "language": "python",
     "metadata": {},
     "outputs": [
      {
       "metadata": {},
       "output_type": "pyout",
       "prompt_number": 140,
       "text": [
        "[1, 2, 3, 4, 5, 6, 7, 8, 9, 10]"
       ]
      }
     ],
     "prompt_number": 140
    },
    {
     "cell_type": "markdown",
     "metadata": {},
     "source": [
      "There is also an optional 3rd argument that controls the increment step between each item. Let's create a list of all odd numbers between 1 and 10"
     ]
    },
    {
     "cell_type": "code",
     "collapsed": false,
     "input": [
      "range(1, 11, 2)"
     ],
     "language": "python",
     "metadata": {},
     "outputs": [
      {
       "metadata": {},
       "output_type": "pyout",
       "prompt_number": 141,
       "text": [
        "[1, 3, 5, 7, 9]"
       ]
      }
     ],
     "prompt_number": 141
    },
    {
     "cell_type": "markdown",
     "metadata": {},
     "source": [
      "Suppose we wanted to print all these odd numbers. For that we can use the for loop, and like other Python statements, the code reads quite naturally:"
     ]
    },
    {
     "cell_type": "code",
     "collapsed": false,
     "input": [
      "for number in range(1, 11, 2):\n",
      "    print number"
     ],
     "language": "python",
     "metadata": {},
     "outputs": [
      {
       "output_type": "stream",
       "stream": "stdout",
       "text": [
        "1\n",
        "3\n",
        "5\n",
        "7\n",
        "9\n"
       ]
      }
     ],
     "prompt_number": 142
    },
    {
     "cell_type": "markdown",
     "metadata": {},
     "source": [
      "That's pretty handy! We could use nearly the same code to print all the chromosome locations for a data point in our BED file. Even more convenient is that the end location in the BED data format is not part of the feature. From http://genome.ucsc.edu/FAQ/FAQformat.html#format1\n",
      "\n",
      "***\n",
      "The first three required BED fields are:\n",
      "\n",
      "***chrom*** - The name of the chromosome (e.g. chr3, chrY, chr2_random) or scaffold (e.g. scaffold10671).\n",
      "\n",
      "***chromStart*** - The starting position of the feature in the chromosome or scaffold. The first base in a chromosome is numbered 0.\n",
      "\n",
      "***chromEnd*** - The ending position of the feature in the chromosome or scaffold. The chromEnd base is not included in the display of the feature. For example, the first 100 bases of a chromosome are defined as chromStart=0, chromEnd=100, and span the bases numbered 0-99.\n",
      "***"
     ]
    },
    {
     "cell_type": "code",
     "collapsed": false,
     "input": [
      "for number in range(chrom_start, chrom_end):\n",
      "    print number"
     ],
     "language": "python",
     "metadata": {},
     "outputs": [
      {
       "output_type": "stream",
       "stream": "stdout",
       "text": [
        "6\n",
        "7\n",
        "8\n",
        "9\n",
        "10\n",
        "11\n"
       ]
      }
     ],
     "prompt_number": 144
    },
    {
     "cell_type": "markdown",
     "metadata": {},
     "source": [
      "Pretty easy! We can use a for loop to iterate over any sequence, like our list of vowels:"
     ]
    },
    {
     "cell_type": "code",
     "collapsed": false,
     "input": [
      "for vowel in vowels:\n",
      "    print vowel"
     ],
     "language": "python",
     "metadata": {},
     "outputs": [
      {
       "output_type": "stream",
       "stream": "stdout",
       "text": [
        "u\n",
        "o\n",
        "i\n",
        "e\n",
        "a\n"
       ]
      }
     ],
     "prompt_number": 147
    },
    {
     "cell_type": "markdown",
     "metadata": {},
     "source": [
      "Since a string is a sequence, we can iterate over that too:"
     ]
    },
    {
     "cell_type": "code",
     "collapsed": false,
     "input": [
      "for letter in 'word':\n",
      "    print letter"
     ],
     "language": "python",
     "metadata": {},
     "outputs": [
      {
       "output_type": "stream",
       "stream": "stdout",
       "text": [
        "w\n",
        "o\n",
        "r\n",
        "d\n"
       ]
      }
     ],
     "prompt_number": 148
    },
    {
     "cell_type": "code",
     "collapsed": false,
     "input": [],
     "language": "python",
     "metadata": {},
     "outputs": []
    }
   ],
   "metadata": {}
  }
 ]
}