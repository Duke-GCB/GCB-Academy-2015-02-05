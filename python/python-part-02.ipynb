{
 "metadata": {
  "name": "",
  "signature": "sha256:468c93398b9eb5ee98227ccbe78056b45b5d089fb7edd94817a22c97eb629959"
 },
 "nbformat": 3,
 "nbformat_minor": 0,
 "worksheets": [
  {
   "cells": [
    {
     "cell_type": "markdown",
     "metadata": {},
     "source": [
      "# Scripts, functions, and libraries\n",
      "\n",
      "We've run `python` and explored some functionality on the interactive prompt, but the real power for scientific computing is to write scripts. A script is just a text file that has python statements in it. And they're useful to run a specific analysis, task. They're reusable, reproducible, readable, and powerful.\n",
      "\n",
      "As an introduciton to writing programs in Python, we're going to tackle a fairly simple problem. Let's say we have a bunch of these BED files and we need to find the longest span for each chromosome for each one. Well, we know how to interpret the files, so we just need to put the pieces together, using loops, arithmetic, conditionals, and some data structures/types. So let's think about how you'd do this as a program.\n",
      "\n",
      "1. Read the file line by line\n",
      "2. Interpret each line as a row (e.g. extract the label, start and end)\n",
      "3. Calculate the span of each row\n",
      "4. Report the longest span and number of rows for each chromosome\n",
      "\n",
      "## Section 1 - Getting Started\n",
      "\n",
      "Writing a script - what does that mean?\n",
      "\n",
      "1. Using the text editor\n",
      "2. Adding code and comments\n",
      "3. Running the script\n",
      "\n",
      "Let's begin by adding some of the examples from the last lesson to parse the row and calculate the span. We already wrote the code to do Steps 2 and 3, so let's start by putting that into a script:\n",
      "\n",
      "Using nano:\n",
      "\n",
      "`$ nano longest_span_v1.py`"
     ]
    },
    {
     "cell_type": "code",
     "collapsed": false,
     "input": [
      "# longest_span_v1.py\n",
      "\n",
      "# Input Data\n",
      "bed_string = 'chr1 6 12'\n",
      "\n",
      "# Parsing\n",
      "bed_list = bed_string.split()\n",
      "chrom = bed_list[0]\n",
      "chrom_start = int(bed_list[1])\n",
      "chrom_end = int(bed_list[2])\n",
      "\n",
      "# Checking\n",
      "if chrom_start > chrom_end or chrom_start < 0:\n",
      "    print 'Bad data!'\n",
      "else:\n",
      "    # Calculating\n",
      "    chrom_span = chrom_end - chrom_start\n",
      "    print 'Chrom: {}, Span {}'.format(chrom, chrom_span)\n"
     ],
     "language": "python",
     "metadata": {},
     "outputs": [
      {
       "output_type": "stream",
       "stream": "stdout",
       "text": [
        "Chrom: chr1, Span 6\n"
       ]
      }
     ],
     "prompt_number": 1
    },
    {
     "cell_type": "markdown",
     "metadata": {},
     "source": [
      "Save this file. And run it on the command line\n",
      "\n",
      "```bash\n",
      "$ python longest_span_v1.py\n",
      "Chrom: chr1, Span 6\n",
      "```"
     ]
    },
    {
     "cell_type": "markdown",
     "metadata": {},
     "source": [
      "There's one new concept here - that's [printing with the format method](https://docs.python.org/2/tutorial/inputoutput.html). Basically you write a template of what you want to print out, and then use {} as placeholders. Otherwise you'd have to convert everything to a string and start/stop quotes all over the place. This is easier to see what's going on."
     ]
    },
    {
     "cell_type": "markdown",
     "metadata": {},
     "source": [
      "## Section 2 - Functions\n",
      "\n",
      "So we have a script. It runs but it's not terribly useful. It only works on this one string. If we keep along this path, we'd have a lot of copy/pasting and a big messy program for these steps.\n",
      "\n",
      "> 1. Open a bed file\n",
      "> 2. Read the file line by line\n",
      "> 3. Parse each line as a row\n",
      "> 4. Calculate the span of each row\n",
      "> 5. Report the number of rows and longest span for each chromosome\n",
      "\n",
      "When writing a script, the best way to approach it is to break these steps into functions. Functions let you encapsulate a bunch of code and give it a name.\n",
      "\n",
      "So let's take the parsing/calculation logic we've got here and wrap it in a function that handles those steps. This makes the code a lot easier to write, and also easier to read.\n",
      "\n",
      "1. Defining a function\n",
      "2. Calling a function\n",
      "3. Return values and Arguments\n",
      "\n",
      "Before we do that, let's consider what we do have - a working script. Before I explore any further, I'm going to make a copy of my script. I don't know if my next change is going to work out yet. So let's preserve the original in case we just break something. We can also use the `diff` command to see what we did. This is primitive version control, and tomorrow Hilmar will show you a better way, but for now let's just copy things.\n",
      "\n",
      "```bash\n",
      "$ cp longest_span_v1.py longest_span_v2.py\n",
      "$ nano longest_span_v2.py\n",
      "```\n",
      "\n",
      "Instructions:\n",
      "- Put everything after # Parsing into a function called parse_bed(bed_string):\n",
      "- call the function with the bed_string. Do this before the function and let it break with\n",
      "    `NameError: name 'parse_bed' is not defined`\n",
      "\n",
      "To make a function, you start with `def`. It means define. Then you provide the name of your function, a set of parentheses for any arguments, and a colon. The \"body\" of the function (that is the code that it will encapsulate) is then indented, just like a conditional. The indentation is part of the language remember. When the function is over, you unindent. It helps a lot when reading the code - you can see where your functions start and skim over the rest.\n",
      "\n",
      "Calling the function. You use the name and the parentheses. We've seen other calls earlier, like `len()` and `range()`. The thing you put inside the parentheses will be passed to the function - can be a variable or a literal. Inside the function body, any time we use `bed_string`, we're getting the value that was passed in. So we can use this function over and over again, and `bed_string` will be different every time.\n"
     ]
    },
    {
     "cell_type": "code",
     "collapsed": false,
     "input": [
      "# longest_span_v2.py\n",
      "\n",
      "# Input Data\n",
      "bed_string = 'chr1 6 12'\n",
      "\n",
      "# parse_bed(bed_string)\n",
      "\n",
      "def parse_bed(bed_string):\n",
      "    bed_list = bed_string.split()\n",
      "    chrom = bed_list[0]\n",
      "    chrom_start = int(bed_list[1])\n",
      "    chrom_end = int(bed_list[2])\n",
      "\n",
      "    if chrom_start > chrom_end or chrom_start < 0:\n",
      "        print \"Bad data!\"\n",
      "    else:\n",
      "        chrom_span = chrom_end - chrom_start\n",
      "        print 'Chrom: {}, Span {}'.format(chrom, chrom_span)\n",
      "\n",
      "parse_bed(bed_string)\n",
      "\n",
      "# Add these later\n",
      "parse_bed('chr2 12 23')\n",
      "parse_bed('chrX 98 45')"
     ],
     "language": "python",
     "metadata": {},
     "outputs": [
      {
       "output_type": "stream",
       "stream": "stdout",
       "text": [
        "Chrom: chr1, Span 6\n",
        "Chrom: chr2, Span 11\n",
        "Bad data!\n"
       ]
      }
     ],
     "prompt_number": 2
    },
    {
     "cell_type": "markdown",
     "metadata": {},
     "source": [
      "\n",
      "Discuss scope - `bed_string` inside and outside the function. How you could write this to use a global variable.\n",
      "\n",
      "Instructions:\n",
      "- Diff the files to see what we did. diff -w\n",
      "- Add more calls to parse_bed\n",
      "- Print the bed_string at the end\n"
     ]
    },
    {
     "cell_type": "markdown",
     "metadata": {},
     "source": [
      "This is great. The function works and is reusable. We used it 3 times. We can vary the arguments, but how is this going to feed into the next step - of actually finding the longest span? This function is a dead end in terms of the program flow - it doesn't return anything. It performs the calculation but it simply prints that back out. We didn't call it `print_bed`,  printing isn't really the goal here, it's just how we know it's working. The better way to do this is to `return` a value. When you think of a function, generally you have an input and an output, right? In our case we'll want the label and the span. The function returns those values and then the caller can do something with them, whether that's printing or storing. \n",
      "\n",
      "Instructions\n",
      "- Change `print` to `return` in the function. Run the script and see that it doesn't print anything now.\n",
      "- Since we've got two values to return, I'm going to use another of python's data types - a dictionary instead of a string\n",
      "- Add another function to print the dictionary. Decouples the data from the presentation."
     ]
    },
    {
     "cell_type": "code",
     "collapsed": false,
     "input": [
      "# longest_span_v3.py\n",
      "\n",
      "# Input Data\n",
      "bed_string = 'chr1 6 12'\n",
      "\n",
      "# parse_bed(bed_string)\n",
      "\n",
      "def parse_bed(bed_string):\n",
      "    bed_list = bed_string.split()\n",
      "    chrom = bed_list[0]\n",
      "    chrom_start = int(bed_list[1])\n",
      "    chrom_end = int(bed_list[2])\n",
      "\n",
      "    if chrom_start > chrom_end or chrom_start < 0:\n",
      "        return None\n",
      "    else:\n",
      "        chrom_span = chrom_end - chrom_start\n",
      "        return {'chrom': chrom, 'span': chrom_span}\n",
      "\n",
      "def print_bed(bed_dict):\n",
      "    if bed_dict is not None:\n",
      "        print 'Chrom: {}, Span {}'.format(bed_dict['chrom'], bed_dict['span'])\n",
      "    else:\n",
      "        print \"Bad data!\"\n",
      "    \n",
      "print_bed(parse_bed(bed_string))\n",
      "\n",
      "print_bed(parse_bed('chr2 12 23'))\n",
      "print_bed(parse_bed('chrX 98 45'))\n",
      "print bed_string"
     ],
     "language": "python",
     "metadata": {},
     "outputs": [
      {
       "output_type": "stream",
       "stream": "stdout",
       "text": [
        "Chrom: chr1, Span 6\n",
        "Chrom: chr2, Span 11\n",
        "Bad data!\n",
        "chr1 6 12\n"
       ]
      }
     ],
     "prompt_number": 3
    },
    {
     "cell_type": "markdown",
     "metadata": {},
     "source": [
      "## Section 3 - Importing Libraries\n",
      "\n",
      "1. import\n",
      "2. sys.stdin\n",
      "3. Return values\n",
      "\n",
      "We've taken our core logic and moved it into a function. Now we don't have to copy/paste it to re-use it, and we only have to test and debug it in one place. What's better than being able to reuse code that you write? Well, that would be code you never had to write in the first place. Python includes a bunch of [standard libraries](https://docs.python.org/2/library/index.html) that provide a lot of of common functionality. On top of the standard libraries, there's a whole community of libraries, you can grab stuff off GitHub, or move your own code into other files and import them.\n",
      "\n",
      "Depending on time, may skip sys and jump straight to `fileinput`\n",
      "\n",
      "How can we use this here? Well obviously we don't want to hard-code the BED rows into our script, or edit the script every time we want to read a different data set. So let's get rid of that part and instead turn this script to read from STDIN - which is how things are piped together.\n",
      "\n",
      "To do that, I'm going to use the `sys` library. Remember, Unix utilities are designed to be small and connected together. They read from STDIN and write to STDOUT\n",
      "\n",
      "Instructions:\n",
      "- import sys at top. Explain that they usually go at the top\n",
      "- wrap the call to parse_bed in `for line in sys.stdin:`\n",
      "- Exercise: Wrap the this in another function and call it.\n"
     ]
    },
    {
     "cell_type": "code",
     "collapsed": false,
     "input": [
      "# longest_span_v4.py\n",
      "\n",
      "import sys\n",
      "\n",
      "def parse_bed(bed_string):\n",
      "    bed_list = bed_string.split()\n",
      "    chrom = bed_list[0]\n",
      "    chrom_start = int(bed_list[1])\n",
      "    chrom_end = int(bed_list[2])\n",
      "\n",
      "    if chrom_start > chrom_end or chrom_start < 0:\n",
      "        return None\n",
      "    else:\n",
      "        chrom_span = chrom_end - chrom_start\n",
      "        return {'chrom': chrom, 'span': chrom_span}\n",
      "\n",
      "def print_bed(bed_dict):\n",
      "    if bed_dict is not None:\n",
      "        print 'Chrom: {}, Span {}'.format(bed_dict['chrom'], bed_dict['span'])\n",
      "    else:\n",
      "        print \"Bad data!\"\n",
      "\n",
      "for line in sys.stdin:\n",
      "    print_bed(parse_bed(line))"
     ],
     "language": "python",
     "metadata": {},
     "outputs": [],
     "prompt_number": 4
    },
    {
     "cell_type": "markdown",
     "metadata": {},
     "source": [
      "Unpacking the changes, we're importing [`sys`](https://docs.python.org/2/library/sys.html#sys.stdin). There's a lot of OS level stuff in sys. You can get STDIN and STDOUT, any arguments passed to the command, the OS version.\n",
      "We've also got a `for` loop that reads lines from sys.stdin and calls parse on them. `Control+D` to exit\n",
      "\n",
      "Depending on time, may skip this part.\n",
      "\n",
      "Let's also adapt this to read from a file. Remember `cat` or `nano`? If you give them a filename, they work on those files. So let's update our script to do that too.\n",
      "\n",
      "So there are definitely other parts of `sys` that can help us with this. There's [`sys.argv`](https://docs.python.org/2/library/sys.html#sys.argv). But there's actually a whole library called [`fileinput`](https://docs.python.org/2/library/fileinput.html#module-fileinput) that is designed for exactly this case.\n",
      "\n",
      "Instructions:\n",
      "- Exercise: Update this code to use `fileinput` instead of `sys.stdin`.\n",
      "- change import sys to `import fileinput`\n",
      "- change `for line in sys.stdin:` to `for line in fileinput.input():`\n",
      "- Add a conditional to break if line equals `quit`\n",
      "\n",
      "We didn't have to change our function at all, and now it's reading from files too\n"
     ]
    },
    {
     "cell_type": "markdown",
     "metadata": {},
     "source": [
      "```python\n",
      "# longest_span_v5.py\n",
      "\n",
      "import fileinput\n",
      "\n",
      "def parse_bed(bed_string):\n",
      "    bed_list = bed_string.split()\n",
      "    chrom = bed_list[0]\n",
      "    chrom_start = int(bed_list[1])\n",
      "    chrom_end = int(bed_list[2])\n",
      "\n",
      "    if chrom_start > chrom_end or chrom_start < 0:\n",
      "        return None\n",
      "    else:\n",
      "        chrom_span = chrom_end - chrom_start\n",
      "        return {'chrom': chrom, 'span': chrom_span}\n",
      "\n",
      "def print_bed(bed_dict):\n",
      "    if bed_dict is not None:\n",
      "        print 'Chrom: {}, Span {}'.format(bed_dict['chrom'], bed_dict['span'])\n",
      "    else:\n",
      "        print \"Bad data!\"\n",
      "\n",
      "for line in fileinput.input():\n",
      "    print_bed(parse_bed(line))\n",
      "```"
     ]
    },
    {
     "cell_type": "markdown",
     "metadata": {},
     "source": [
      "Great, now we've got a script that works like other tools, and we offloaded the argument parsing and file opening to a library. It's good to appreciate the low-level stuff, but there are a lot of well-maintained libraries that do these tasks, so be sure to use them."
     ]
    },
    {
     "cell_type": "markdown",
     "metadata": {},
     "source": [
      "We went pretty deep there, but we've got steps 1-4 covered, and now we've got a function that can return a nicely structured unit of data. \n",
      "\n",
      "Next we'll want to find the longest span for a chromosome.\n",
      "\n",
      "Two ways to think about this. One - read all the data first and then sort it, or just keep track of the longest one as we stream through the data. Let's conserve memory and write it so that we keep track of the longest one.\n",
      "\n",
      "So let's write a function that checks if a `bed_dict` dictionary is longer than the longest we've got\n",
      "\n",
      "Instructions:\n",
      "- Write a function that checks if a bed_dict has the longest span we've seen for the chromosome so far\n",
      "- Write a function that sets the longest span\n",
      "- Write a loop that calls these and prints out the longest spans\n",
      "- Exercise: Note that we're missing context - we don't know where this started or ended, so let's add that to the parse_bed and print_bed"
     ]
    },
    {
     "cell_type": "markdown",
     "metadata": {},
     "source": [
      "```python\n",
      "# longest_span_v6.py\n",
      "\n",
      "import fileinput\n",
      "\n",
      "def parse_bed(bed_string):\n",
      "    bed_list = bed_string.split()\n",
      "    chrom = bed_list[0]\n",
      "    chrom_start = int(bed_list[1])\n",
      "    chrom_end = int(bed_list[2])\n",
      "\n",
      "    if chrom_start > chrom_end or chrom_start < 0:\n",
      "        return None\n",
      "    else:\n",
      "        chrom_span = chrom_end - chrom_start\n",
      "        return {'chrom': chrom, 'span': chrom_span}\n",
      "\n",
      "def print_bed(bed_dict):\n",
      "    if bed_dict is not None:\n",
      "        print 'Chrom: {}, Span {}'.format(bed_dict['chrom'], bed_dict['span'])\n",
      "    else:\n",
      "        print \"Bad data!\"\n",
      "\n",
      "def is_longest_span(bed_dict, longest_spans):\n",
      "  if bed_dict is None:\n",
      "    return False\n",
      "  chrom = bed_dict['chrom']\n",
      "  span = bed_dict['span']\n",
      "  if chrom not in longest_spans:\n",
      "    return True\n",
      "  elif span > longest_spans[chrom]['span']:\n",
      "    return True\n",
      "  else:\n",
      "    return False\n",
      "    \n",
      "def set_longest_span(bed_dict, longest_spans):\n",
      "  chrom = bed_dict['chrom']\n",
      "  longest_spans[chrom] = bed_dict\n",
      "\n",
      "# Main functionality\n",
      "longest_spans = dict()\n",
      "for line in fileinput.input():\n",
      "    bed_dict = parse_bed(line)\n",
      "    if is_longest_span(bed_dict, longest_spans):\n",
      "      set_longest_span(bed_dict, longest_spans)\n",
      "\n",
      "# Now print!\n",
      "for chrom in longest_spans:\n",
      "  print_bed(longest_spans[chrom])\n",
      "```"
     ]
    },
    {
     "cell_type": "markdown",
     "metadata": {},
     "source": [
      "So this works and finds the longest span, but we're not retaining any context other than the chromosome. We probably want to know which one it is. So let's store some more information. We're reading the start/end, and we can easily put that in the dictionary and not have to change anything else. Same with printing."
     ]
    },
    {
     "cell_type": "markdown",
     "metadata": {},
     "source": [
      "```python\n",
      "# longest_span_v7.py\n",
      "\n",
      "import fileinput\n",
      "\n",
      "def parse_bed(bed_string):\n",
      "    bed_list = bed_string.split()\n",
      "    chrom = bed_list[0]\n",
      "    chrom_start = int(bed_list[1])\n",
      "    chrom_end = int(bed_list[2])\n",
      "\n",
      "    if chrom_start > chrom_end or chrom_start < 0:\n",
      "        return None\n",
      "    else:\n",
      "        chrom_span = chrom_end - chrom_start\n",
      "        return {'chrom': chrom, 'span': chrom_span, 'start': chrom_start, 'end': chrom_end}\n",
      "\n",
      "def print_bed(bed_dict):\n",
      "    if bed_dict is not None:\n",
      "        print 'Chrom: {}, Start {}, End {}, Span {}'.format(bed_dict['chrom'], bed_dict['start'], bed_dict['end'], bed_dict['span'])\n",
      "    else:\n",
      "        print \"Bad data!\"\n",
      "\n",
      "def is_longest_span(bed_dict, longest_spans):\n",
      "  if bed_dict is None:\n",
      "    return False\n",
      "  chrom = bed_dict['chrom']\n",
      "  span = bed_dict['span']\n",
      "  if chrom not in longest_spans:\n",
      "    return True\n",
      "  elif span > longest_spans[chrom]['span']:\n",
      "    return True\n",
      "  else:\n",
      "    return False\n",
      "    \n",
      "def set_longest_span(bed_dict, longest_spans):\n",
      "  chrom = bed_dict['chrom']\n",
      "  longest_spans[chrom] = bed_dict\n",
      "\n",
      "# Main functionality\n",
      "longest_spans = dict()\n",
      "for line in fileinput.input():\n",
      "    bed_dict = parse_bed(line)\n",
      "    if is_longest_span(bed_dict, longest_spans):\n",
      "      set_longest_span(bed_dict, longest_spans)\n",
      "\n",
      "# Now print!\n",
      "for chrom in longest_spans:\n",
      "  print_bed(longest_spans[chrom])\n",
      "```"
     ]
    },
    {
     "cell_type": "markdown",
     "metadata": {},
     "source": [
      "Let's revisit our steps and see how we're doing.\n",
      "\n",
      "Ah, forgot to keep track of the counts. As an exercise, let's take a crack at that. Let's add another dictionary for the `chrom_counts`, where the keys are the chromosomes and the values are numbers. Each time we encounter a chromosome label, increment the count.\n",
      "\n",
      "Other notes:\n",
      "- wrap main functionality in main() and check `if __name__ == '__main__'`"
     ]
    },
    {
     "cell_type": "code",
     "collapsed": false,
     "input": [],
     "language": "python",
     "metadata": {},
     "outputs": [],
     "prompt_number": 4
    }
   ],
   "metadata": {}
  }
 ]
}