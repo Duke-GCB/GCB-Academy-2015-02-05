{
 "metadata": {
  "name": "",
  "signature": "sha256:a5b566e794de918bc7deb170d1a2f7bed65f7e3349604678e071a23ac5c27037"
 },
 "nbformat": 3,
 "nbformat_minor": 0,
 "worksheets": [
  {
   "cells": [
    {
     "cell_type": "markdown",
     "metadata": {},
     "source": [
      "# Python\n",
      "\n",
      "## Section 1\n",
      "\n",
      "* Why use Python? Versatile, easy and natural to read, rich libraries, multiple platforms\n",
      "* Poll the audience: who has programmed? in what language?\n",
      "* The interactive prompt, can everyone successfully get in\n",
      "\n",
      "```\n",
      "bitnami@linux:~$ ipython\n",
      "Python 2.7.8 |Anaconda 2.0.1 (64-bit)| (default, Aug 21 2014, 18:22:21) \n",
      "Type \"copyright\", \"credits\" or \"license\" for more information.\n",
      "\n",
      "IPython 2.2.0 -- An enhanced Interactive Python.\n",
      "Anaconda is brought to you by Continuum Analytics.\n",
      "Please check out: http://continuum.io/thanks and https://binstar.org\n",
      "?         -> Introduction and overview of IPython's features.\n",
      "%quickref -> Quick reference.\n",
      "help      -> Python's own help system.\n",
      "object?   -> Details about 'object', use 'object??' for extra details.\n",
      "\n",
      "In [1]: \n",
      "```"
     ]
    },
    {
     "cell_type": "markdown",
     "metadata": {},
     "source": [
      "## Section 2\n",
      "\n",
      "* Strings as a data type, variable assignment\n",
      "* The len() function and print statement\n",
      "* Intro to variable assignment, no need to declare variables in Python\n",
      "* string concatenation & single vs double quotes\n",
      "\n",
      "Let's begin with a simple example of data in [BED](http://genome.ucsc.edu/FAQ/FAQformat.html#format1) format. Simple BED data is from https://www.biostars.org/p/13516/.\n",
      "\n",
      "First, let's store some text data in a variable. To get up and running, we'll just paste the tabular data right inline: Assignment is simple and uses the `=` operator, and strings typically use single quotes for simple cases.\n"
     ]
    },
    {
     "cell_type": "code",
     "collapsed": false,
     "input": [
      "a_string = 'chr1 6 12'\n",
      "a_string"
     ],
     "language": "python",
     "metadata": {},
     "outputs": [
      {
       "metadata": {},
       "output_type": "pyout",
       "prompt_number": 1,
       "text": [
        "'chr1 6 12'"
       ]
      }
     ],
     "prompt_number": 1
    },
    {
     "cell_type": "markdown",
     "metadata": {},
     "source": [
      "That's a string, assigned to a variable. Note that we used single quotes and python prints them out around our string. We can recall the variable by the name we assigned, and print it with `print`. Strings are sequences of characters, and we can get the length of the sequence with `len()`."
     ]
    },
    {
     "cell_type": "code",
     "collapsed": false,
     "input": [
      "len(a_string)"
     ],
     "language": "python",
     "metadata": {},
     "outputs": [
      {
       "metadata": {},
       "output_type": "pyout",
       "prompt_number": 2,
       "text": [
        "9"
       ]
      }
     ],
     "prompt_number": 2
    },
    {
     "cell_type": "markdown",
     "metadata": {},
     "source": [
      "But we've got 3 values in there, separated by whitespace. And when processing data in a string like this, you'd typically want to split it into components. Enter `split()`"
     ]
    },
    {
     "cell_type": "code",
     "collapsed": false,
     "input": [
      "a_list = a_string.split()\n",
      "a_list"
     ],
     "language": "python",
     "metadata": {},
     "outputs": [
      {
       "metadata": {},
       "output_type": "pyout",
       "prompt_number": 3,
       "text": [
        "['chr1', '6', '12']"
       ]
      }
     ],
     "prompt_number": 3
    },
    {
     "cell_type": "markdown",
     "metadata": {},
     "source": [
      "Note we've got a few things going on here. Start with the string variable, then `.split()`. That gives us a list, which is another sequence type. We store that in the variable called `a_list`."
     ]
    },
    {
     "cell_type": "code",
     "collapsed": false,
     "input": [
      "len(a_list)"
     ],
     "language": "python",
     "metadata": {},
     "outputs": [
      {
       "metadata": {},
       "output_type": "pyout",
       "prompt_number": 4,
       "text": [
        "3"
       ]
      }
     ],
     "prompt_number": 4
    },
    {
     "cell_type": "markdown",
     "metadata": {},
     "source": [
      "The list has 3 elements in it, and they work like individual variables. To access a single element in the list, you start with the name and put the index number between square brackets."
     ]
    },
    {
     "cell_type": "code",
     "collapsed": false,
     "input": [
      "a_list[1]"
     ],
     "language": "python",
     "metadata": {},
     "outputs": [
      {
       "metadata": {},
       "output_type": "pyout",
       "prompt_number": 5,
       "text": [
        "'6'"
       ]
      }
     ],
     "prompt_number": 5
    },
    {
     "cell_type": "markdown",
     "metadata": {},
     "source": [
      "Right, the first element is actually `a_list[0]`."
     ]
    },
    {
     "cell_type": "code",
     "collapsed": false,
     "input": [
      "a_list[0]"
     ],
     "language": "python",
     "metadata": {},
     "outputs": [
      {
       "metadata": {},
       "output_type": "pyout",
       "prompt_number": 6,
       "text": [
        "'chr1'"
       ]
      }
     ],
     "prompt_number": 6
    },
    {
     "cell_type": "markdown",
     "metadata": {},
     "source": [
      "## Section 3\n",
      "\n",
      "* Other data types - numbers\n",
      "* White space\n",
      "* Division to segue into data types (int vs float) \n",
      "\n",
      "So our list contains an element that is actually a string (`chr1`), as well as some values that should be treated as numbers - integers actually. We've assigned strings and lists but we've also seen ints - the `len()` function returns ints. Notice it doesn't have any quotes around it. There are many data types in Python, and you can define your own. So one handy feature of the language (and specifically the interactive shell) is the `type` function."
     ]
    },
    {
     "cell_type": "code",
     "collapsed": false,
     "input": [
      "type(a_list)"
     ],
     "language": "python",
     "metadata": {},
     "outputs": [
      {
       "metadata": {},
       "output_type": "pyout",
       "prompt_number": 7,
       "text": [
        "list"
       ]
      }
     ],
     "prompt_number": 7
    },
    {
     "cell_type": "code",
     "collapsed": false,
     "input": [
      "type(a_list[1])"
     ],
     "language": "python",
     "metadata": {},
     "outputs": [
      {
       "metadata": {},
       "output_type": "pyout",
       "prompt_number": 8,
       "text": [
        "str"
       ]
      }
     ],
     "prompt_number": 8
    },
    {
     "cell_type": "code",
     "collapsed": false,
     "input": [
      "print a_list"
     ],
     "language": "python",
     "metadata": {},
     "outputs": [
      {
       "output_type": "stream",
       "stream": "stdout",
       "text": [
        "['chr1', '6', '12']\n"
       ]
      }
     ],
     "prompt_number": 9
    },
    {
     "cell_type": "markdown",
     "metadata": {},
     "source": [
      "Let's bring back our list and do something simple but useful. Reference on the BED format:\n",
      "\n",
      ">  The first three required BED fields are:\n",
      ">\n",
      "> 1. chrom - The name of the chromosome (e.g. chr3, chrY, chr2_random) or scaffold (e.g. scaffold10671).\n",
      "> 2. chromStart - The starting position of the feature in the chromosome or scaffold. The first base in a chromosome is numbered 0.\n",
      "> 3. chromEnd - The ending position of the feature in the chromosome or scaffold. The chromEnd base is not included in the display of the feature. For example, the first 100 bases of a chromosome are defined as chromStart=0, chromEnd=100, and span the bases numbered 0-99.\n",
      " "
     ]
    },
    {
     "cell_type": "code",
     "collapsed": false,
     "input": [
      "chrom_start = int(a_list[1])\n",
      "chrom_end = int(a_list[2])"
     ],
     "language": "python",
     "metadata": {},
     "outputs": [],
     "prompt_number": 10
    },
    {
     "cell_type": "code",
     "collapsed": false,
     "input": [
      "print chrom_start, chrom_end"
     ],
     "language": "python",
     "metadata": {},
     "outputs": [
      {
       "output_type": "stream",
       "stream": "stdout",
       "text": [
        "6 12\n"
       ]
      }
     ],
     "prompt_number": 11
    },
    {
     "cell_type": "code",
     "collapsed": false,
     "input": [
      "chrom_span = chrom_end - chrom_start\n",
      "print chrom_span"
     ],
     "language": "python",
     "metadata": {},
     "outputs": [
      {
       "output_type": "stream",
       "stream": "stdout",
       "text": [
        "6\n"
       ]
      }
     ],
     "prompt_number": 12
    },
    {
     "cell_type": "markdown",
     "metadata": {},
     "source": [
      "We should point out quickly about whitespace. You don't need any spaces between the `=` and the variables or the `-`, but whitespace (when it's indentation) is important. Otherwise, as long as it doesn't change the meaning of the word, it's fine."
     ]
    },
    {
     "cell_type": "code",
     "collapsed": false,
     "input": [
      "range(chrom_start,chrom_end)"
     ],
     "language": "python",
     "metadata": {},
     "outputs": [
      {
       "metadata": {},
       "output_type": "pyout",
       "prompt_number": 13,
       "text": [
        "[6, 7, 8, 9, 10, 11]"
       ]
      }
     ],
     "prompt_number": 13
    },
    {
     "cell_type": "markdown",
     "metadata": {},
     "source": [
      "Let's say I have 200 bases and want to calculate what percentage this covers. Obviously easy math, but let's do it anyways:"
     ]
    },
    {
     "cell_type": "code",
     "collapsed": false,
     "input": [
      "chrom_span / 100"
     ],
     "language": "python",
     "metadata": {},
     "outputs": [
      {
       "metadata": {},
       "output_type": "pyout",
       "prompt_number": 14,
       "text": [
        "0"
       ]
      }
     ],
     "prompt_number": 14
    },
    {
     "cell_type": "markdown",
     "metadata": {},
     "source": [
      "Ah. ints. If you divide two ints you get an int back."
     ]
    },
    {
     "cell_type": "code",
     "collapsed": false,
     "input": [
      "float(chrom_span) / float(100)"
     ],
     "language": "python",
     "metadata": {},
     "outputs": [
      {
       "metadata": {},
       "output_type": "pyout",
       "prompt_number": 15,
       "text": [
        "0.06"
       ]
      }
     ],
     "prompt_number": 15
    },
    {
     "cell_type": "code",
     "collapsed": false,
     "input": [
      "chrom_span / 100.0"
     ],
     "language": "python",
     "metadata": {},
     "outputs": [
      {
       "metadata": {},
       "output_type": "pyout",
       "prompt_number": 16,
       "text": [
        "0.06"
       ]
      }
     ],
     "prompt_number": 16
    },
    {
     "cell_type": "markdown",
     "metadata": {},
     "source": [
      "## Section 4\n",
      "\n",
      "* Errors & tracebacks: add string to integer -> TypeError\n",
      "* What is a traceback? They are useful, do not be alarmed!\n",
      "* More help from Python: the help() & dir() functions"
     ]
    },
    {
     "cell_type": "code",
     "collapsed": false,
     "input": [
      "# Leave this commented out, because IPython stops running cells after this point when it fails\n",
      "# a_list[1] + 4"
     ],
     "language": "python",
     "metadata": {},
     "outputs": [],
     "prompt_number": 17
    },
    {
     "cell_type": "code",
     "collapsed": false,
     "input": [
      "# Also commented out because it makes a big block (though scrollable)\n",
      "# help(str)"
     ],
     "language": "python",
     "metadata": {},
     "outputs": [],
     "prompt_number": 18
    },
    {
     "cell_type": "code",
     "collapsed": false,
     "input": [
      "# Also commented out because it makes a big block (though scrollable)\n",
      "# dir()"
     ],
     "language": "python",
     "metadata": {},
     "outputs": [],
     "prompt_number": 19
    },
    {
     "cell_type": "code",
     "collapsed": false,
     "input": [],
     "language": "python",
     "metadata": {},
     "outputs": [],
     "prompt_number": 19
    },
    {
     "cell_type": "code",
     "collapsed": false,
     "input": [],
     "language": "python",
     "metadata": {},
     "outputs": [],
     "prompt_number": 19
    }
   ],
   "metadata": {}
  }
 ]
}