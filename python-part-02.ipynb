{
 "metadata": {
  "name": "",
  "signature": "sha256:b3b7e4ea4ce6279e00afc9dd8f878c0bf9527096786fb222676ffbdd1137bb3f"
 },
 "nbformat": 3,
 "nbformat_minor": 0,
 "worksheets": [
  {
   "cells": [
    {
     "cell_type": "markdown",
     "metadata": {},
     "source": [
      "# Scripts and functions\n",
      "\n",
      "We've run `python` and explored some functionality on the interactive prompt, but the real power for scientific computing is to write scripts. A script is just a text file that has python statements in it. And they're useful to run a specific analysis, task, or solve a specific problem. So let's come up with a problem.\n",
      "\n",
      "We're going to write a script that will read a BED file and run some simple calculations on it. Basically we're going to see how many rows for each chromosome and what the longest span is for each. We know how to interpret the files, so we just need to put some pieces together and do some loops, arithmetic and comparisons.\n",
      "\n",
      "1. Open a bed file\n",
      "2. Read the file line by line\n",
      "3. Parse each line as a row\n",
      "4. Calculate the span of each row\n",
      "5. Report the number of rows and longest span for each chromosome\n",
      "\n",
      "## Section 1 - Getting Started\n",
      "\n",
      "Writing a script - what does that mean?\n",
      "\n",
      "1. Using the text editor\n",
      "2. Adding code and comments\n",
      "3. Running the script\n",
      "\n",
      "Let's begin by adding some of the examples from the last lesson to parse the row and calculate the span. We already wrote the code to do Steps 3 and 4\n",
      "Using pico:\n",
      "\n",
      "`$ pico longest_span_v1.py`"
     ]
    },
    {
     "cell_type": "code",
     "collapsed": false,
     "input": [
      "# longest_span_v1.py\n",
      "\n",
      "# Input Data\n",
      "bed_string = 'chr1 6 12'\n",
      "\n",
      "# Parsing\n",
      "bed_list = bed_string.split()\n",
      "chrom = bed_list[0]\n",
      "chrom_start = int(bed_list[1])\n",
      "chrom_end = int(bed_list[2])\n",
      "\n",
      "# Checking\n",
      "if chrom_start > chrom_end or chrom_start < 0:\n",
      "    print \"Bad data!\"\n",
      "else:\n",
      "    # Calculating\n",
      "    chrom_span = chrom_end - chrom_start\n",
      "    print \"Chrom: %s, Span %d\" % (chrom, chrom_span)\n"
     ],
     "language": "python",
     "metadata": {},
     "outputs": [
      {
       "output_type": "stream",
       "stream": "stdout",
       "text": [
        "Chrom: chr1, Span 6\n"
       ]
      }
     ],
     "prompt_number": 1
    },
    {
     "cell_type": "markdown",
     "metadata": {},
     "source": [
      "Save this file. And run it on the command line\n",
      "\n",
      "```bash\n",
      "$ python longest_span_v1.py\n",
      "Chrom: chr1, Span 6\n",
      "```"
     ]
    },
    {
     "cell_type": "markdown",
     "metadata": {},
     "source": [
      "There's a minor change here - and that's printing the span using this format string."
     ]
    },
    {
     "cell_type": "markdown",
     "metadata": {},
     "source": [
      "## Section 2 - Functions\n",
      "\n",
      "So we have a script. It runs but it's not terribly useful. It only works on this one string. If we go back to our outline, it looks like we'd start to get a big, hard-to-follow program to implement a fairly simple set of steps\n",
      "\n",
      "> 1. Open a bed file\n",
      "> 2. Read the file line by line\n",
      "> 3. Parse each line as a row\n",
      "> 4. Calculate the span of each row\n",
      "> 5. Report the number of rows and longest span for each chromosome\n",
      "\n",
      "When writing a script, the best way to approach it is to break these steps into functions. Functions take code and give it a name\n",
      "\n",
      "So the best way to handle this is to break operations into functions. This makes the code a lot easier to write, and also easier to read.\n",
      "\n",
      "1. Defining a function\n",
      "2. Calling a function\n",
      "3. Return values and Arguments\n",
      "\n",
      "The first thing I'm going to do here is make a copy of my script. I've got a working v1 script, and I don't know if my next change is going to work out yet. So let's preserve the original in case we just break something. This is primitive version control, and tomorrow Hilmar will show you a better way, but for now let's just copy things.\n",
      "\n",
      "```bash\n",
      "$ cp longest_span_v1.py longest_span_v2.py\n",
      "$ pico longest_span_v2.py\n",
      "```\n",
      "\n",
      "Instructions:\n",
      "- Put everything after # Parsing into a function called parse_chrom(bed_string):\n",
      "- call the function with the bed_string\n"
     ]
    },
    {
     "cell_type": "code",
     "collapsed": false,
     "input": [
      "# longest_span_v2.py\n",
      "\n",
      "# Input Data\n",
      "bed_string = 'chr1 6 12'\n",
      "\n",
      "# parse_bed(bed_string)\n",
      "\n",
      "def parse_bed(bed_string):\n",
      "    bed_list = bed_string.split()\n",
      "    chrom = bed_list[0]\n",
      "    chrom_start = int(bed_list[1])\n",
      "    chrom_end = int(bed_list[2])\n",
      "\n",
      "    if chrom_start > chrom_end or chrom_start < 0:\n",
      "        print \"Bad data!\"\n",
      "    else:\n",
      "        chrom_span = chrom_end - chrom_start\n",
      "        print \"Chrom: %s, Span %d\" % (chrom, chrom_span)\n",
      "\n",
      "parse_bed(bed_string)\n",
      "\n",
      "# Add these later\n",
      "parse_bed('chr2 12 23')\n",
      "parse_bed('chrX 98 45')\n"
     ],
     "language": "python",
     "metadata": {},
     "outputs": [
      {
       "output_type": "stream",
       "stream": "stdout",
       "text": [
        "Chrom: chr1, Span 6\n",
        "Chrom: chr2, Span 11\n",
        "Bad data!\n"
       ]
      }
     ],
     "prompt_number": 2
    },
    {
     "cell_type": "markdown",
     "metadata": {},
     "source": [
      "To make a function, you start with `def`. It means define. Then you provide the name of your function, a set of parentheses for any arguments, and a colon. The \"body\" of the function (that is the code that it will encapsulate) is then indented, just like a conditional. The indentation is part of the language remember. When the function is over, you unindent. It helps a lot when reading the code - you can see where your functions start and skim over the rest.\n",
      "\n",
      "Calling the function. You use the name and the parentheses. We've seen other calls earlier, like `len()` and `range()`. The thing you put inside the parentheses will be passed to the function - can be a variable or a literal. Inside the function body, any time we use `bed_string`, we're getting the value that was passed in. So we can use this function over and over again, and `bed_string` will be different every time.\n",
      "\n",
      "Discuss scope - `bed_string` inside and outside the function. How you could write this to use a global variable.\n",
      "\n",
      "Instructions:\n",
      "- Add more calls to parse_chrom\n",
      "- Print the bed_string at the end\n"
     ]
    },
    {
     "cell_type": "markdown",
     "metadata": {},
     "source": [
      "This is great. The function works and is reusable. We can vary the arguments, but the function itself is kind of a dead end because it doesn't return anything. It parses the line and calculates the span but it simply prints that back out. We didn't call it `print_chrom`, and printing isn't really the goal here, it's just how we know it's working. The better way to do this is to `return` a value, and in our case we'll want to return the label and the span. Hand those values back to the code that called the function and let the caller decide what to do with them (e.g. print or store them).\n",
      "\n",
      "Instructions\n",
      "- Change `print` to `return` in the function\n",
      "- Return a dictionary instead of a string\n",
      "- Add another function to print the dictionary,"
     ]
    },
    {
     "cell_type": "code",
     "collapsed": false,
     "input": [
      "# longest_span_v3.py\n",
      "\n",
      "# Input Data\n",
      "bed_string = 'chr1 6 12'\n",
      "\n",
      "# parse_bed(bed_string)\n",
      "\n",
      "def parse_bed(bed_string):\n",
      "    bed_list = bed_string.split()\n",
      "    chrom = bed_list[0]\n",
      "    chrom_start = int(bed_list[1])\n",
      "    chrom_end = int(bed_list[2])\n",
      "\n",
      "    if chrom_start > chrom_end or chrom_start < 0:\n",
      "        return None\n",
      "    else:\n",
      "        chrom_span = chrom_end - chrom_start\n",
      "        return {'chrom': chrom, 'span': chrom_span}\n",
      "\n",
      "def print_bed(bed_dict):\n",
      "    if bed_dict is not None:\n",
      "        print \"Chrom: %s, Span %d\" % (bed_dict['chrom'], bed_dict['span'])\n",
      "    else:\n",
      "        print \"Bad data!\"\n",
      "    \n",
      "print_bed(parse_bed(bed_string))\n",
      "\n",
      "print_bed(parse_bed('chr2 12 23'))\n",
      "print_bed(parse_bed('chrX 98 45'))\n",
      "print bed_string"
     ],
     "language": "python",
     "metadata": {},
     "outputs": [
      {
       "output_type": "stream",
       "stream": "stdout",
       "text": [
        "Chrom: chr1, Span 6\n",
        "Chrom: chr2, Span 11\n",
        "Bad data!\n",
        "chr1 6 12\n"
       ]
      }
     ],
     "prompt_number": 3
    },
    {
     "cell_type": "markdown",
     "metadata": {},
     "source": [
      "## Section 3 - Importing Libraries\n",
      "\n",
      "1. import\n",
      "2. sys.stdin\n",
      "3. Return values\n",
      "\n",
      "We've taken our core logic and moved it into a function. Now we don't have to copy/paste it to re-use it, and we only have to test and debug it in one place. What's better than that? Well, that would be code you never have to write. Python includes a bunch of [standard libraries](https://docs.python.org/2/library/index.html) that provide a lot of of common functionality. On top of the standard libraries, there's a whole community of libraries, you can grab stuff off GitHub, or move your own code into other files and import them.\n",
      "\n",
      "How can we use this here? Well obviously we don't want to hard-code the BED rows into our script, or edit the script every time we want to read a different data set. So let's get rid of that part and instead turn this script to read from STDIN - which is how things are piped together.\n",
      "\n",
      "To do that, I'm going to use the `sys` library. Remember, Unix utilities are designed to be small and connected together. They read from STDIN and write to STDOUT\n",
      "\n",
      "Instructions:\n",
      "- import sys at top. Explain that they usually go at the top\n",
      "- wrap the call to parse_chrom in `for line in sys.stdin:`\n",
      "- Exercise: Wrap the this in another function and call it.\n"
     ]
    },
    {
     "cell_type": "code",
     "collapsed": false,
     "input": [
      "# longest_span_v4.py\n",
      "\n",
      "import sys\n",
      "\n",
      "def parse_bed(bed_string):\n",
      "    bed_list = bed_string.split()\n",
      "    chrom = bed_list[0]\n",
      "    chrom_start = int(bed_list[1])\n",
      "    chrom_end = int(bed_list[2])\n",
      "\n",
      "    if chrom_start > chrom_end or chrom_start < 0:\n",
      "        return None\n",
      "    else:\n",
      "        chrom_span = chrom_end - chrom_start\n",
      "        return {'chrom': chrom, 'span': chrom_span}\n",
      "\n",
      "def print_bed(bed_dict):\n",
      "    if bed_dict is not None:\n",
      "        print \"Chrom: %s, Span %d\" % (bed_dict['chrom'], bed_dict['span'])\n",
      "    else:\n",
      "        print \"Bad data!\"\n",
      "\n",
      "for line in sys.stdin:\n",
      "    print_bed(parse_bed(line))"
     ],
     "language": "python",
     "metadata": {},
     "outputs": [],
     "prompt_number": 4
    },
    {
     "cell_type": "markdown",
     "metadata": {},
     "source": [
      "Unpacking the changes, we're importing [`sys`](https://docs.python.org/2/library/sys.html#sys.stdin). There's a lot of OS level stuff in sys. You can get STDIN and STDOUT, any arguments passed to the command, the OS version.\n",
      "We've also got a `for` loop that reads lines from sys.stdin and calls parse on them. `Control+D` to exit\n",
      "\n",
      "Depending on time, may skip this part.\n",
      "\n",
      "Let's also adapt this to read from a file. Remember `cat` or `nano`? If you give them a filename, they work on those files. So let's update our script to do that too.\n",
      "\n",
      "So there are definitely other parts of `sys` that can help us with this. There's [`sys.argv`](https://docs.python.org/2/library/sys.html#sys.argv). But there's actually a whole library called [`fileinput`](https://docs.python.org/2/library/fileinput.html#module-fileinput) that is designed for exactly this case.\n",
      "\n",
      "Instructions:\n",
      "- Exercise: Update this code to use `fileinput` instead of `sys.stdin`.\n",
      "- change import sys to `import fileinput`\n",
      "- change `for line in sys.stdin:` to `for line in fileinput.input():`\n",
      "- Add a conditional to break if line equals `quit`\n",
      "\n",
      "We didn't have to change our function at all, and now it's reading from files too\n"
     ]
    },
    {
     "cell_type": "markdown",
     "metadata": {},
     "source": [
      "```python\n",
      "# longest_span_v5.py\n",
      "\n",
      "import fileinput\n",
      "\n",
      "def parse_chrom(bed_string):\n",
      "    bed_list = bed_string.split()\n",
      "    chrom = bed_list[0]\n",
      "    chrom_start = int(bed_list[1])\n",
      "    chrom_end = int(bed_list[2])\n",
      "\n",
      "    if chrom_start > chrom_end or chrom_start < 0:\n",
      "        return None\n",
      "    else:\n",
      "        chrom_span = chrom_end - chrom_start\n",
      "        return {'chrom': chrom, 'span': chrom_span}\n",
      "\n",
      "def print_chrom(chrom_dict):\n",
      "    if chrom_dict is not None:\n",
      "        print \"Chrom: %s, Span %d\" % (chrom_dict['chrom'], chrom_dict['span'])\n",
      "    else:\n",
      "        print \"Bad data!\"\n",
      "\n",
      "for line in fileinput.input():\n",
      "    print_chrom(parse_chrom(line))\n",
      "```"
     ]
    },
    {
     "cell_type": "markdown",
     "metadata": {},
     "source": [
      "Great, now we've got a script that works like other tools, and we offloaded the argument parsing and file opening to a library. These are good to know, but there are a lot of well-maintained libraries that do these tasks, so be sure to use them."
     ]
    },
    {
     "cell_type": "markdown",
     "metadata": {},
     "source": [
      "We went pretty deep there, but we've got steps 1-4 covered, and now we've got a function that can return a nicely structured unit of data. \n",
      "\n",
      "Next we'll want to find the longest span for a chromosome.\n",
      "\n",
      "Two ways to think about this. One - read all the data first and then sort it, or just keep track of the longest one as we stream through the data. Let's conserve memory and write it so that we keep track of the longest one."
     ]
    },
    {
     "cell_type": "code",
     "collapsed": false,
     "input": [],
     "language": "python",
     "metadata": {},
     "outputs": [],
     "prompt_number": 4
    }
   ],
   "metadata": {}
  }
 ]
}