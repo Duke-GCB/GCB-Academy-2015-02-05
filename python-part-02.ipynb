{
 "metadata": {
  "name": "",
  "signature": "sha256:730d863d93a6e7d8abc17e3be76013f51e1d25472e2d2c02f97186cb73f1be4f"
 },
 "nbformat": 3,
 "nbformat_minor": 0,
 "worksheets": [
  {
   "cells": [
    {
     "cell_type": "markdown",
     "metadata": {},
     "source": [
      "# Scripts and functions\n",
      "\n",
      "We're going to write a script that will read a BED file and run some simple calculations on it. Basically we're going to see how many rows for each chromosome and what the longest span is for each. We know how to interpret the files, so we just need to put some pieces together and do some loops, arithmetic and comparisons.\n",
      "\n",
      "1. Open a bed file\n",
      "2. Read the file line by line\n",
      "3. Parse each line as a row\n",
      "4. Calculate the span of each row\n",
      "5. Report the number of rows and longest span for each chromosome\n",
      "\n",
      "## Section 1 - Getting Started\n",
      "\n",
      "Writing a script - what does that mean?\n",
      "\n",
      "1. Using the text editor\n",
      "2. Adding code and comments\n",
      "3. Running the script\n",
      "\n",
      "Let's begin by adding some of the examples from the last lesson to parse the row and calculate the span. We already wrote the code to do Steps 3 and 4\n",
      "Using pico:\n",
      "\n",
      "`$ pico longest_span_v1.py`"
     ]
    },
    {
     "cell_type": "code",
     "collapsed": false,
     "input": [
      "# longest_span_v1.py\n",
      "\n",
      "# Input Data\n",
      "bed_string = 'chr1 6 12'\n",
      "\n",
      "# Parsing\n",
      "bed_list = bed_string.split()\n",
      "chrom = bed_list[0]\n",
      "chrom_start = int(bed_list[1])\n",
      "chrom_end = int(bed_list[2])\n",
      "\n",
      "# Checking\n",
      "if chrom_start > chrom_end or chrom_start < 0:\n",
      "    print \"Bad data!\"\n",
      "else:\n",
      "    # Calculating\n",
      "    chrom_span = chrom_end - chrom_start\n",
      "    print \"Chrom: %s, Span %d\" % (chrom, chrom_span)\n"
     ],
     "language": "python",
     "metadata": {},
     "outputs": [
      {
       "output_type": "stream",
       "stream": "stdout",
       "text": [
        "Chrom: chr1, Span 6\n"
       ]
      }
     ],
     "prompt_number": 1
    },
    {
     "cell_type": "markdown",
     "metadata": {},
     "source": [
      "Save this file. And run it on the command line\n",
      "\n",
      "```bash\n",
      "$ python longest_span_v1.py\n",
      "Chrom: chr1, Span 6\n",
      "```"
     ]
    },
    {
     "cell_type": "markdown",
     "metadata": {},
     "source": [
      "## Section 2 - Functions\n",
      "\n",
      "So we have a script. It runs but it's not terribly useful. It only works on this one string. If we go back to our outline, it looks like we'd start to get a big, hard-to-follow program to implement a fairly simple set of steps\n",
      "\n",
      "> 1. Open a bed file\n",
      "> 2. Read the file line by line\n",
      "> 3. Parse each line as a row\n",
      "> 4. Calculate the span of each row\n",
      "> 5. Report the number of rows and longest span for each chromosome\n",
      "\n",
      "So the best way to handle this is to break operations into functions. This makes the code a lot easier to write, and also easier to read.\n",
      "\n",
      "1. Defining a function\n",
      "2. Calling a function\n",
      "3. Return values and Arguments\n",
      "\n",
      "The first thing I'm going to do here is make a copy of my script. I've got a working v1 script, and I don't know if my next change is going to work out yet.\n",
      "\n",
      "```bash\n",
      "$ cp longest_span_v1.py longest_span_v2.py\n",
      "$ pico longest_span_v2.py\n",
      "```"
     ]
    },
    {
     "cell_type": "code",
     "collapsed": false,
     "input": [
      "# longest_span_v2.py\n",
      "\n",
      "# Input Data\n",
      "bed_string = 'chr1 6 12'\n",
      "\n",
      "# parse_chrom(bed_string)\n",
      "\n",
      "def parse_chrom(bed_string):\n",
      "    bed_list = bed_string.split()\n",
      "    chrom = bed_list[0]\n",
      "    chrom_start = int(bed_list[1])\n",
      "    chrom_end = int(bed_list[2])\n",
      "\n",
      "    if chrom_start > chrom_end or chrom_start < 0:\n",
      "        print \"Bad data!\"\n",
      "    else:\n",
      "        chrom_span = chrom_end - chrom_start\n",
      "        print \"Chrom: %s, Span %d\" % (chrom, chrom_span)\n",
      "\n",
      "parse_chrom(bed_string)\n",
      "\n",
      "# Add these later\n",
      "parse_chrom('chr2 12 23')\n",
      "parse_chrom('chrX 98 45')"
     ],
     "language": "python",
     "metadata": {},
     "outputs": [
      {
       "output_type": "stream",
       "stream": "stdout",
       "text": [
        "Chrom: chr1, Span 6\n",
        "Chrom: chr2, Span 11\n",
        "Bad data!\n"
       ]
      }
     ],
     "prompt_number": 2
    },
    {
     "cell_type": "markdown",
     "metadata": {},
     "source": [
      "To make a function, you start with `def`. It means define. Then you provide the name of your function, a set of parentheses for any arguments, and a colon. The \"body\" of the function (that is the code that it will encapsulate) is then indented, just like a conditional. The indentation is part of the language remember. When the function is over, you unindent. It helps a lot when reading the code - you can see where your functions start and skim over the rest.\n",
      "\n",
      "Calling the function. You use the name and the parentheses. We've seen other calls earlier, like `len()` and `range()`. The thing you put inside the parentheses will be passed to the function - can be a variable or a literal. Inside the function body, any time we use `bed_string`, we're getting the value that was passed in. So we can use this function over and over again, and `bed_string` will be different every time.\n",
      "\n",
      "Notes on scope"
     ]
    },
    {
     "cell_type": "markdown",
     "metadata": {},
     "source": [
      "## Section 3 - Importing Libraries\n",
      "\n",
      "1. import\n",
      "2. sys.stdin\n",
      "3. Return values\n",
      "\n",
      "So, what's better than code in functions that you only have to write and debug once? Well, that would be code you never have to write. Python includes a bunch of [standard libraries](https://docs.python.org/2/library/index.html) that provide a lot of of functionality. On top of that, there's a whole community of libraries, you can grab stuff off GitHub, or move your own code into other files and import them.\n",
      "\n",
      "Obviously we don't want to hard-code the BED rows into our script. So let's get rid of that code and instead turn this script to read from STDIN - which is how things are piped together.\n",
      "\n",
      "To do that, I'm going to use the `sys` library. Remember, Unix utilities are designed to be small and connected together. They read from STDIN and write to STDOUT\n"
     ]
    },
    {
     "cell_type": "code",
     "collapsed": false,
     "input": [
      "# longest_span_v3.py\n",
      "\n",
      "import sys\n",
      "\n",
      "def parse_chrom(bed_string):\n",
      "    bed_list = bed_string.split()\n",
      "    chrom = bed_list[0]\n",
      "    chrom_start = int(bed_list[1])\n",
      "    chrom_end = int(bed_list[2])\n",
      "\n",
      "    if chrom_start > chrom_end or chrom_start < 0:\n",
      "        print \"Bad data!\"\n",
      "    else:\n",
      "        chrom_span = chrom_end - chrom_start\n",
      "        print \"Chrom: %s, Span %d\" % (chrom, chrom_span)\n",
      "\n",
      "for line in sys.stdin:\n",
      "    parse_chrom(line)"
     ],
     "language": "python",
     "metadata": {},
     "outputs": [],
     "prompt_number": 3
    },
    {
     "cell_type": "markdown",
     "metadata": {},
     "source": [
      "Next: Explain `sys.stdin` and `for line`. Could also use `raw_input()`. Step after that is to change prints to returns."
     ]
    },
    {
     "cell_type": "code",
     "collapsed": false,
     "input": [],
     "language": "python",
     "metadata": {},
     "outputs": [],
     "prompt_number": 3
    }
   ],
   "metadata": {}
  }
 ]
}