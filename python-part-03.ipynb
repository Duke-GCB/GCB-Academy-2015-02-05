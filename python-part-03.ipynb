{
 "metadata": {
  "name": "",
  "signature": "sha256:818d496d8a624876e3a10587f1216663f308d3dfc5b3e3825730b5c42fb4b448"
 },
 "nbformat": 3,
 "nbformat_minor": 0,
 "worksheets": []
}